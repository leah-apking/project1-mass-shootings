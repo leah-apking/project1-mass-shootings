{
 "cells": [
  {
   "cell_type": "markdown",
   "id": "38033048",
   "metadata": {},
   "source": [
    "mass shootings:\n",
    "\n",
    "year \n",
    "location (school/street/church/walmart/other?) \n",
    "city\n",
    "\n",
    "how many people were shot \n",
    "how many people were killed \n",
    "\n",
    "population \n",
    "poverty rate\n",
    "\n",
    "gun laws? what type of laws? feature engineering (boolean! True if there is this law, False if there is not)\n",
    "gun laws ranking (strict --> not that strict)\n",
    "blue/red/purple(swing) state\n",
    "\n",
    "Analysis - Leah \n",
    "\n",
    "Presentation - Julie \n"
   ]
  },
  {
   "cell_type": "markdown",
   "id": "bbc0e55a",
   "metadata": {},
   "source": [
    "•\tHave the rates of mass shootings increased in the last 8 years?\n",
    "\n",
    "•\tDoes local poverty rate/ lower median family income contribute to greater prevalence of mass shootings in the US?\n",
    "\n",
    "•\tWhat percentage of gun violence is related/from Mass Shootings? \n",
    "\n",
    "•\tDo gun laws impact the prevalence of mass shootings?\n",
    "\n",
    "Media coverage?? \n"
   ]
  },
  {
   "cell_type": "code",
   "execution_count": null,
   "id": "0230e300",
   "metadata": {},
   "outputs": [],
   "source": [
    "# Dependencies and Setup\n",
    "\n",
    "\n",
    "\n",
    "# File to Load\n",
    "\n",
    "# Read _____ and store into Pandas DataFrames\n",
    "\n",
    "# Combine the data into a single dataset \n"
   ]
  },
  {
   "cell_type": "markdown",
   "id": "6260ccd2",
   "metadata": {},
   "source": [
    "# **Mass Shootings Summary for the last 8 years (Julie)** \n",
    "\n",
    "Have the rates of mass shootings increased within the last 8 years?\n"
   ]
  },
  {
   "cell_type": "code",
   "execution_count": null,
   "id": "031485da",
   "metadata": {},
   "outputs": [],
   "source": [
    "# Checking the number of unique mass shootings "
   ]
  },
  {
   "cell_type": "code",
   "execution_count": null,
   "id": "9c37a3e1",
   "metadata": {},
   "outputs": [],
   "source": [
    "# Create a clean DataFrame by dropping the duplicates."
   ]
  },
  {
   "cell_type": "code",
   "execution_count": null,
   "id": "6417afeb",
   "metadata": {},
   "outputs": [],
   "source": [
    "# Calculate the total number of mass shootings each year "
   ]
  },
  {
   "cell_type": "code",
   "execution_count": null,
   "id": "0fb85a1c",
   "metadata": {},
   "outputs": [],
   "source": [
    "# Calculate the total number of mass shootings per season/month"
   ]
  },
  {
   "cell_type": "code",
   "execution_count": null,
   "id": "8659487a",
   "metadata": {},
   "outputs": [],
   "source": [
    "# Calculate the total number of mass shootings per state (each year)"
   ]
  },
  {
   "cell_type": "code",
   "execution_count": 1,
   "id": "f1caf765",
   "metadata": {},
   "outputs": [],
   "source": [
    "# Visualize data on red/blue state vs. total number of mass shootings (API call? hvplot.pandas?)"
   ]
  },
  {
   "cell_type": "code",
   "execution_count": null,
   "id": "20ba2687",
   "metadata": {},
   "outputs": [],
   "source": [
    "# Calculate the total number of mass shootings per state each year (per one million people)"
   ]
  },
  {
   "cell_type": "markdown",
   "id": "d4dbf55b",
   "metadata": {},
   "source": [
    "**Bar chart: Mass Shootings per year**"
   ]
  },
  {
   "cell_type": "code",
   "execution_count": null,
   "id": "67fdaf22",
   "metadata": {},
   "outputs": [],
   "source": []
  },
  {
   "cell_type": "markdown",
   "id": "68fe1b79",
   "metadata": {},
   "source": [
    "**Scatter Plot/Line Chart: mass shootings per season** "
   ]
  },
  {
   "cell_type": "code",
   "execution_count": null,
   "id": "c01a3ee7",
   "metadata": {},
   "outputs": [],
   "source": []
  },
  {
   "cell_type": "markdown",
   "id": "d376daf3",
   "metadata": {},
   "source": [
    "**Map: Total Number of Mass Shootings per State (points of different sizes)**"
   ]
  },
  {
   "cell_type": "code",
   "execution_count": null,
   "id": "47b38ba4",
   "metadata": {},
   "outputs": [],
   "source": []
  },
  {
   "cell_type": "markdown",
   "id": "b216ad23",
   "metadata": {},
   "source": [
    "# **Census Data vs. Mass Shootings Data (Nancy)**\n",
    "\n",
    "Does local poverty rate/lower median family income contribute to greater prevelance of mass shootings in the US? "
   ]
  },
  {
   "cell_type": "code",
   "execution_count": null,
   "id": "ecafaf07",
   "metadata": {},
   "outputs": [],
   "source": [
    "# API Call to get Cencus Data by City/County\n",
    "\n",
    "# Set the API base URL\n",
    "\n"
   ]
  },
  {
   "cell_type": "code",
   "execution_count": null,
   "id": "616cc039",
   "metadata": {},
   "outputs": [],
   "source": [
    "# Extract Poverty Rate "
   ]
  },
  {
   "cell_type": "code",
   "execution_count": null,
   "id": "28484491",
   "metadata": {},
   "outputs": [],
   "source": [
    "# Convert the poverty rate data into a Pandas DataFrame"
   ]
  },
  {
   "cell_type": "code",
   "execution_count": null,
   "id": "2393e063",
   "metadata": {},
   "outputs": [],
   "source": []
  },
  {
   "cell_type": "code",
   "execution_count": null,
   "id": "e95613cd",
   "metadata": {},
   "outputs": [],
   "source": [
    "# Sort the ______ by `______` in ascending order."
   ]
  },
  {
   "cell_type": "code",
   "execution_count": null,
   "id": "7a4b0b22",
   "metadata": {},
   "outputs": [],
   "source": []
  },
  {
   "cell_type": "markdown",
   "id": "a9832ef5",
   "metadata": {},
   "source": [
    "**Scatter Plot (hvplot.pandas): City vs. Mass shootings** "
   ]
  },
  {
   "cell_type": "code",
   "execution_count": null,
   "id": "1906ac75",
   "metadata": {},
   "outputs": [],
   "source": []
  },
  {
   "cell_type": "markdown",
   "id": "1664ce89",
   "metadata": {},
   "source": [
    "**Pie Chart: Total Mass shootings vs. Poverty rate/Income**"
   ]
  },
  {
   "cell_type": "code",
   "execution_count": null,
   "id": "c22c7cff",
   "metadata": {},
   "outputs": [],
   "source": []
  },
  {
   "cell_type": "markdown",
   "id": "d9dab638",
   "metadata": {},
   "source": [
    "# Mass Shooting vs. Gun Violence (%) (Isidore)\n",
    "\n",
    "What percentage of gun violence is related/from Mass Shootings? "
   ]
  },
  {
   "cell_type": "code",
   "execution_count": null,
   "id": "d13a26c3",
   "metadata": {},
   "outputs": [],
   "source": []
  },
  {
   "cell_type": "code",
   "execution_count": null,
   "id": "92df5104",
   "metadata": {},
   "outputs": [],
   "source": []
  },
  {
   "cell_type": "markdown",
   "id": "8085791c",
   "metadata": {},
   "source": [
    "# **Guns Laws vs. Mass Shootings (Leah)**\n",
    "\n",
    "Do strict gun laws prevent mass shooting?"
   ]
  },
  {
   "cell_type": "code",
   "execution_count": null,
   "id": "5bd8153d",
   "metadata": {},
   "outputs": [],
   "source": [
    "# Extract ranking for stricter gun laws "
   ]
  }
 ],
 "metadata": {
  "kernelspec": {
   "display_name": "PythonData",
   "language": "python",
   "name": "pythondata"
  },
  "language_info": {
   "codemirror_mode": {
    "name": "ipython",
    "version": 3
   },
   "file_extension": ".py",
   "mimetype": "text/x-python",
   "name": "python",
   "nbconvert_exporter": "python",
   "pygments_lexer": "ipython3",
   "version": "3.7.7"
  }
 },
 "nbformat": 4,
 "nbformat_minor": 5
}
